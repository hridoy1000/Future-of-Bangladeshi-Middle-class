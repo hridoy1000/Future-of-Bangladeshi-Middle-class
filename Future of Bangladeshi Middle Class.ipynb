{
 "cells": [
  {
   "cell_type": "code",
   "execution_count": 1,
   "id": "13ba2990",
   "metadata": {},
   "outputs": [],
   "source": [
    "import pandas as pd\n",
    "import numpy as np\n",
    "import matplotlib.pyplot as plt\n",
    "import scipy.stats\n",
    "%matplotlib inline\n",
    "from scipy.stats import skew\n",
    "import pylab as p \n",
    "import statsmodels.api as sm\n",
    "from scipy.stats import norm\n"
   ]
  },
  {
   "cell_type": "markdown",
   "id": "2361a2ef",
   "metadata": {},
   "source": [
    "# Raw Csv data of Bangladeshi middle class"
   ]
  },
  {
   "cell_type": "code",
   "execution_count": 2,
   "id": "a73c873a",
   "metadata": {},
   "outputs": [
    {
     "name": "stdout",
     "output_type": "stream",
     "text": [
      "              Timestamp                       Current state  \\\n",
      "0    5/16/2022 22:05:53        Middle Class (Income Range )   \n",
      "1    5/16/2022 22:07:57        Middle Class (Income Range )   \n",
      "2    5/16/2022 22:08:55        Middle Class (Income Range )   \n",
      "3    5/16/2022 22:09:01  Lower Middle Class (Income Range )   \n",
      "4    5/16/2022 22:11:21        Middle Class (Income Range )   \n",
      "..                  ...                                 ...   \n",
      "119  6/24/2022 18:34:04        Middle Class (Income Range )   \n",
      "120  6/25/2022 15:38:06        Middle Class (Income Range )   \n",
      "121  6/26/2022 10:03:40        Middle Class (Income Range )   \n",
      "122  6/29/2022 14:15:11        Middle Class (Income Range )   \n",
      "123  6/29/2022 23:26:18        Middle Class (Income Range )   \n",
      "\n",
      "                   Two years back state  Income Expenditure  \\\n",
      "0          Middle Class (Income Range )  50,000      45,000   \n",
      "1          Middle Class (Income Range )   30000       25000   \n",
      "2          Middle Class (Income Range )   35000       35000   \n",
      "3          Middle Class (Income Range )  300000      300000   \n",
      "4          Middle Class (Income Range )   80000       80000   \n",
      "..                                  ...     ...         ...   \n",
      "119  Upper Middle Class (Income Range )  200000       60000   \n",
      "120  Lower Middle Class (Income Range )   50000       60000   \n",
      "121        Middle Class (Income Range )   80000      700000   \n",
      "122        Middle Class (Income Range )   70000       60000   \n",
      "123  Upper Middle Class (Income Range )   25000       25000   \n",
      "\n",
      "                         Loan         Living  \\\n",
      "0       Less than 1 Lakh (tk)    Sylhet City   \n",
      "1                          No     Dhaka City   \n",
      "2    Greater than 5 Lakh (tk)        Village   \n",
      "3                          No        Village   \n",
      "4    Greater than 5 Lakh (tk)     Dhaka City   \n",
      "..                        ...            ...   \n",
      "119     Less than 5 Lakh (tk)     Dhaka City   \n",
      "120  Greater than 1 Lakh (tk)        Village   \n",
      "121     Less than 5 Lakh (tk)        Upozila   \n",
      "122     Less than 5 Lakh (tk)  Rajshahi City   \n",
      "123  Greater than 1 Lakh (tk)        Village   \n",
      "\n",
      "                                               Address  \\\n",
      "0                                          Sylhet City   \n",
      "1                                           Dhaka City   \n",
      "2                  Icchapura, Sirajdikhan, Munshigonj    \n",
      "3                    Fasiakhali, Chakaria, Cox'sBazar    \n",
      "4     1\\59\\A-4 South Mugda para bank colony Dhaka-1214   \n",
      "..                                                 ...   \n",
      "119                                      Mirpur, Dhaka   \n",
      "120  District:Cumilla,Upozila:Nangolkot, village:Ch...   \n",
      "121        Vill:gaila,upozila:agailjhara,Zila:barishal   \n",
      "122                                        Pabna Sadar   \n",
      "123                   Bariasoni, Rupgonj , Narayangonj   \n",
      "\n",
      "                              Investment  \n",
      "0                                Savings  \n",
      "1                      Flat, No, Savings  \n",
      "2                                Savings  \n",
      "3                                     No  \n",
      "4                              Own House  \n",
      "..                                   ...  \n",
      "119  Land, Stock Market, Flat, Own House  \n",
      "120                                 Land  \n",
      "121                                 Land  \n",
      "122               Shanchaypatra, Savings  \n",
      "123                        Land, Savings  \n",
      "\n",
      "[124 rows x 9 columns]\n"
     ]
    }
   ],
   "source": [
    "\n",
    "data = pd.read_csv(r'/Users/hridoy/Desktop/Research Analysis/final/Future of Bangladeshi Middle Class Families ordered - Sheet1.tsv', sep = \"\\t\")\n",
    "\n",
    "print(data)\n"
   ]
  },
  {
   "cell_type": "markdown",
   "id": "e2fc4171",
   "metadata": {},
   "source": [
    "# Data Types"
   ]
  },
  {
   "cell_type": "code",
   "execution_count": 3,
   "id": "7fd7f1bb",
   "metadata": {},
   "outputs": [
    {
     "name": "stdout",
     "output_type": "stream",
     "text": [
      "<class 'pandas.core.frame.DataFrame'>\n",
      "RangeIndex: 124 entries, 0 to 123\n",
      "Data columns (total 9 columns):\n",
      " #   Column                Non-Null Count  Dtype \n",
      "---  ------                --------------  ----- \n",
      " 0   Timestamp             124 non-null    object\n",
      " 1   Current state         124 non-null    object\n",
      " 2   Two years back state  124 non-null    object\n",
      " 3   Income                124 non-null    object\n",
      " 4   Expenditure           124 non-null    object\n",
      " 5   Loan                  124 non-null    object\n",
      " 6   Living                124 non-null    object\n",
      " 7   Address               124 non-null    object\n",
      " 8   Investment            123 non-null    object\n",
      "dtypes: object(9)\n",
      "memory usage: 8.8+ KB\n"
     ]
    }
   ],
   "source": [
    "data.info()"
   ]
  },
  {
   "cell_type": "markdown",
   "id": "0903514c",
   "metadata": {},
   "source": [
    "# Converting Income and Enpenditure Data in Float"
   ]
  },
  {
   "cell_type": "code",
   "execution_count": 5,
   "id": "af31b593",
   "metadata": {},
   "outputs": [],
   "source": [
    "data.replace(',','', regex=True, inplace=True)"
   ]
  },
  {
   "cell_type": "code",
   "execution_count": 6,
   "id": "cc9f0959",
   "metadata": {},
   "outputs": [
    {
     "data": {
      "text/plain": [
       "Timestamp                object\n",
       "Current state            object\n",
       "Two years back state     object\n",
       "Income                  float64\n",
       "Expenditure             float64\n",
       "Loan                     object\n",
       "Living                   object\n",
       "Address                  object\n",
       "Investment               object\n",
       "dtype: object"
      ]
     },
     "execution_count": 6,
     "metadata": {},
     "output_type": "execute_result"
    }
   ],
   "source": [
    "data['Income'] = data['Income'].astype('float')\n",
    "data['Expenditure'] = data['Expenditure'].astype('float')\n",
    "data.dtypes"
   ]
  },
  {
   "cell_type": "markdown",
   "id": "76dc13eb",
   "metadata": {},
   "source": [
    "# Some description of income and expenditure"
   ]
  },
  {
   "cell_type": "code",
   "execution_count": 7,
   "id": "060cf5c7",
   "metadata": {},
   "outputs": [
    {
     "data": {
      "text/html": [
       "<div>\n",
       "<style scoped>\n",
       "    .dataframe tbody tr th:only-of-type {\n",
       "        vertical-align: middle;\n",
       "    }\n",
       "\n",
       "    .dataframe tbody tr th {\n",
       "        vertical-align: top;\n",
       "    }\n",
       "\n",
       "    .dataframe thead th {\n",
       "        text-align: right;\n",
       "    }\n",
       "</style>\n",
       "<table border=\"1\" class=\"dataframe\">\n",
       "  <thead>\n",
       "    <tr style=\"text-align: right;\">\n",
       "      <th></th>\n",
       "      <th>Income</th>\n",
       "      <th>Expenditure</th>\n",
       "    </tr>\n",
       "  </thead>\n",
       "  <tbody>\n",
       "    <tr>\n",
       "      <th>count</th>\n",
       "      <td>124.000000</td>\n",
       "      <td>124.000000</td>\n",
       "    </tr>\n",
       "    <tr>\n",
       "      <th>mean</th>\n",
       "      <td>82838.709677</td>\n",
       "      <td>84403.225806</td>\n",
       "    </tr>\n",
       "    <tr>\n",
       "      <th>std</th>\n",
       "      <td>114940.167333</td>\n",
       "      <td>144210.264249</td>\n",
       "    </tr>\n",
       "    <tr>\n",
       "      <th>min</th>\n",
       "      <td>8000.000000</td>\n",
       "      <td>10000.000000</td>\n",
       "    </tr>\n",
       "    <tr>\n",
       "      <th>25%</th>\n",
       "      <td>35000.000000</td>\n",
       "      <td>30000.000000</td>\n",
       "    </tr>\n",
       "    <tr>\n",
       "      <th>50%</th>\n",
       "      <td>50000.000000</td>\n",
       "      <td>50000.000000</td>\n",
       "    </tr>\n",
       "    <tr>\n",
       "      <th>75%</th>\n",
       "      <td>80000.000000</td>\n",
       "      <td>60000.000000</td>\n",
       "    </tr>\n",
       "    <tr>\n",
       "      <th>max</th>\n",
       "      <td>700000.000000</td>\n",
       "      <td>1000000.000000</td>\n",
       "    </tr>\n",
       "  </tbody>\n",
       "</table>\n",
       "</div>"
      ],
      "text/plain": [
       "              Income     Expenditure\n",
       "count     124.000000      124.000000\n",
       "mean    82838.709677    84403.225806\n",
       "std    114940.167333   144210.264249\n",
       "min      8000.000000    10000.000000\n",
       "25%     35000.000000    30000.000000\n",
       "50%     50000.000000    50000.000000\n",
       "75%     80000.000000    60000.000000\n",
       "max    700000.000000  1000000.000000"
      ]
     },
     "execution_count": 7,
     "metadata": {},
     "output_type": "execute_result"
    }
   ],
   "source": [
    "data.describe()"
   ]
  },
  {
   "cell_type": "markdown",
   "id": "28159e91",
   "metadata": {},
   "source": [
    "# Data Description of Income in Bangladeshi middle class"
   ]
  },
  {
   "cell_type": "code",
   "execution_count": 8,
   "id": "1599b6bf",
   "metadata": {},
   "outputs": [
    {
     "data": {
      "text/plain": [
       "8000.0"
      ]
     },
     "execution_count": 8,
     "metadata": {},
     "output_type": "execute_result"
    }
   ],
   "source": [
    "data['Income'].min()"
   ]
  },
  {
   "cell_type": "code",
   "execution_count": 9,
   "id": "07413a80",
   "metadata": {},
   "outputs": [
    {
     "data": {
      "text/plain": [
       "114940.16733333131"
      ]
     },
     "execution_count": 9,
     "metadata": {},
     "output_type": "execute_result"
    }
   ],
   "source": [
    "data['Income'].std()"
   ]
  },
  {
   "cell_type": "code",
   "execution_count": 10,
   "id": "92eef370",
   "metadata": {},
   "outputs": [
    {
     "data": {
      "text/plain": [
       "700000.0"
      ]
     },
     "execution_count": 10,
     "metadata": {},
     "output_type": "execute_result"
    }
   ],
   "source": [
    "data['Income'].max()"
   ]
  },
  {
   "cell_type": "code",
   "execution_count": 11,
   "id": "cd7d839f",
   "metadata": {},
   "outputs": [
    {
     "data": {
      "text/plain": [
       "82838.70967741935"
      ]
     },
     "execution_count": 11,
     "metadata": {},
     "output_type": "execute_result"
    }
   ],
   "source": [
    "data['Income'].mean()"
   ]
  },
  {
   "cell_type": "code",
   "execution_count": 12,
   "id": "b84d4dd3",
   "metadata": {},
   "outputs": [
    {
     "data": {
      "text/plain": [
       "0    50000.0\n",
       "dtype: float64"
      ]
     },
     "execution_count": 12,
     "metadata": {},
     "output_type": "execute_result"
    }
   ],
   "source": [
    "data['Income'].mode()"
   ]
  },
  {
   "cell_type": "code",
   "execution_count": 13,
   "id": "fcbf6bc0",
   "metadata": {},
   "outputs": [
    {
     "data": {
      "text/plain": [
       "50000.0"
      ]
     },
     "execution_count": 13,
     "metadata": {},
     "output_type": "execute_result"
    }
   ],
   "source": [
    "data['Income'].median()"
   ]
  },
  {
   "cell_type": "code",
   "execution_count": 20,
   "id": "f9293d52",
   "metadata": {},
   "outputs": [
    {
     "data": {
      "text/plain": [
       "50000.0"
      ]
     },
     "execution_count": 20,
     "metadata": {},
     "output_type": "execute_result"
    }
   ],
   "source": [
    "data['Income'].quantile(.5)"
   ]
  },
  {
   "cell_type": "code",
   "execution_count": 15,
   "id": "24248ec3",
   "metadata": {},
   "outputs": [
    {
     "data": {
      "text/plain": [
       "35000.0"
      ]
     },
     "execution_count": 15,
     "metadata": {},
     "output_type": "execute_result"
    }
   ],
   "source": [
    "data['Income'].quantile(.25)"
   ]
  },
  {
   "cell_type": "code",
   "execution_count": 16,
   "id": "4c070d6d",
   "metadata": {},
   "outputs": [
    {
     "data": {
      "text/plain": [
       "80000.0"
      ]
     },
     "execution_count": 16,
     "metadata": {},
     "output_type": "execute_result"
    }
   ],
   "source": [
    "data['Income'].quantile(.75)"
   ]
  },
  {
   "cell_type": "code",
   "execution_count": 17,
   "id": "09220560",
   "metadata": {},
   "outputs": [
    {
     "data": {
      "text/plain": [
       "25000.0"
      ]
     },
     "execution_count": 17,
     "metadata": {},
     "output_type": "execute_result"
    }
   ],
   "source": [
    "data['Income'].quantile(.1)"
   ]
  },
  {
   "cell_type": "code",
   "execution_count": 22,
   "id": "2d669fcc",
   "metadata": {},
   "outputs": [
    {
     "data": {
      "text/plain": [
       "0.10    25000.0\n",
       "0.25    35000.0\n",
       "0.50    50000.0\n",
       "0.75    80000.0\n",
       "Name: Income, dtype: float64"
      ]
     },
     "execution_count": 22,
     "metadata": {},
     "output_type": "execute_result"
    }
   ],
   "source": [
    "data['Income'].quantile([.1, .25, .5, .75])"
   ]
  },
  {
   "cell_type": "markdown",
   "id": "98455472",
   "metadata": {},
   "source": [
    "# Data Description of Expenditure in Bangladeshi middle class "
   ]
  },
  {
   "cell_type": "code",
   "execution_count": 24,
   "id": "796498df",
   "metadata": {},
   "outputs": [
    {
     "data": {
      "text/plain": [
       "10000.0"
      ]
     },
     "execution_count": 24,
     "metadata": {},
     "output_type": "execute_result"
    }
   ],
   "source": [
    "data['Expenditure'].min()"
   ]
  },
  {
   "cell_type": "code",
   "execution_count": 25,
   "id": "0421db99",
   "metadata": {},
   "outputs": [
    {
     "data": {
      "text/plain": [
       "144210.26424881417"
      ]
     },
     "execution_count": 25,
     "metadata": {},
     "output_type": "execute_result"
    }
   ],
   "source": [
    "data['Expenditure'].std()"
   ]
  },
  {
   "cell_type": "code",
   "execution_count": 26,
   "id": "075f13e5",
   "metadata": {},
   "outputs": [
    {
     "data": {
      "text/plain": [
       "1000000.0"
      ]
     },
     "execution_count": 26,
     "metadata": {},
     "output_type": "execute_result"
    }
   ],
   "source": [
    "data['Expenditure'].max()"
   ]
  },
  {
   "cell_type": "code",
   "execution_count": 27,
   "id": "e900c8a8",
   "metadata": {},
   "outputs": [
    {
     "data": {
      "text/plain": [
       "84403.2258064516"
      ]
     },
     "execution_count": 27,
     "metadata": {},
     "output_type": "execute_result"
    }
   ],
   "source": [
    "data['Expenditure'].mean()"
   ]
  },
  {
   "cell_type": "code",
   "execution_count": 29,
   "id": "15d9e4c5",
   "metadata": {},
   "outputs": [
    {
     "data": {
      "text/plain": [
       "0    50000.0\n",
       "dtype: float64"
      ]
     },
     "execution_count": 29,
     "metadata": {},
     "output_type": "execute_result"
    }
   ],
   "source": [
    "data['Expenditure'].mode()"
   ]
  },
  {
   "cell_type": "code",
   "execution_count": 30,
   "id": "7ef7f900",
   "metadata": {},
   "outputs": [
    {
     "data": {
      "text/plain": [
       "50000.0"
      ]
     },
     "execution_count": 30,
     "metadata": {},
     "output_type": "execute_result"
    }
   ],
   "source": [
    "data['Expenditure'].median()"
   ]
  },
  {
   "cell_type": "code",
   "execution_count": 31,
   "id": "52d9a417",
   "metadata": {},
   "outputs": [
    {
     "data": {
      "text/plain": [
       "50000.0"
      ]
     },
     "execution_count": 31,
     "metadata": {},
     "output_type": "execute_result"
    }
   ],
   "source": [
    "data['Expenditure'].quantile(0.5)"
   ]
  },
  {
   "cell_type": "code",
   "execution_count": 32,
   "id": "9541f885",
   "metadata": {},
   "outputs": [
    {
     "data": {
      "text/plain": [
       "30000.0"
      ]
     },
     "execution_count": 32,
     "metadata": {},
     "output_type": "execute_result"
    }
   ],
   "source": [
    "data['Expenditure'].quantile(0.25)"
   ]
  },
  {
   "cell_type": "code",
   "execution_count": 33,
   "id": "84dbfcc2",
   "metadata": {},
   "outputs": [
    {
     "data": {
      "text/plain": [
       "60000.0"
      ]
     },
     "execution_count": 33,
     "metadata": {},
     "output_type": "execute_result"
    }
   ],
   "source": [
    "data['Expenditure'].quantile(0.75)\n"
   ]
  },
  {
   "cell_type": "code",
   "execution_count": 34,
   "id": "580ee470",
   "metadata": {},
   "outputs": [
    {
     "data": {
      "text/plain": [
       "25000.0"
      ]
     },
     "execution_count": 34,
     "metadata": {},
     "output_type": "execute_result"
    }
   ],
   "source": [
    "data['Expenditure'].quantile(0.1)"
   ]
  },
  {
   "cell_type": "markdown",
   "id": "b162567b",
   "metadata": {},
   "source": [
    "# Skewness and Kurtosis"
   ]
  },
  {
   "cell_type": "code",
   "execution_count": 35,
   "id": "1c11fa2a",
   "metadata": {},
   "outputs": [
    {
     "data": {
      "text/plain": [
       "3.9518381563860756"
      ]
     },
     "execution_count": 35,
     "metadata": {},
     "output_type": "execute_result"
    }
   ],
   "source": [
    "data['Income'].skew()"
   ]
  },
  {
   "cell_type": "code",
   "execution_count": 36,
   "id": "f44ae779",
   "metadata": {},
   "outputs": [
    {
     "data": {
      "text/plain": [
       "4.280916372761364"
      ]
     },
     "execution_count": 36,
     "metadata": {},
     "output_type": "execute_result"
    }
   ],
   "source": [
    "data['Expenditure'].skew()"
   ]
  },
  {
   "cell_type": "code",
   "execution_count": 37,
   "id": "c38896f4",
   "metadata": {},
   "outputs": [
    {
     "data": {
      "text/plain": [
       "16.715382992632076"
      ]
     },
     "execution_count": 37,
     "metadata": {},
     "output_type": "execute_result"
    }
   ],
   "source": [
    "data['Income'].kurtosis()"
   ]
  },
  {
   "cell_type": "code",
   "execution_count": 38,
   "id": "9ff70d80",
   "metadata": {},
   "outputs": [
    {
     "data": {
      "text/plain": [
       "19.847516912331464"
      ]
     },
     "execution_count": 38,
     "metadata": {},
     "output_type": "execute_result"
    }
   ],
   "source": [
    "data['Expenditure'].kurtosis()"
   ]
  },
  {
   "cell_type": "markdown",
   "id": "c35ba174",
   "metadata": {},
   "source": [
    "# "
   ]
  },
  {
   "cell_type": "code",
   "execution_count": 40,
   "id": "2cf3fc0c",
   "metadata": {},
   "outputs": [
    {
     "data": {
      "text/plain": [
       "0       45000.0\n",
       "1       25000.0\n",
       "2       35000.0\n",
       "3      300000.0\n",
       "4       80000.0\n",
       "         ...   \n",
       "119     60000.0\n",
       "120     60000.0\n",
       "121    700000.0\n",
       "122     60000.0\n",
       "123     25000.0\n",
       "Name: Expenditure, Length: 124, dtype: float64"
      ]
     },
     "execution_count": 40,
     "metadata": {},
     "output_type": "execute_result"
    }
   ],
   "source": [
    "x = data['Income']\n",
    "y = data['Expenditure']\n",
    "x\n",
    "y"
   ]
  },
  {
   "cell_type": "code",
   "execution_count": 41,
   "id": "bd5420bd",
   "metadata": {},
   "outputs": [
    {
     "data": {
      "text/plain": [
       "0.8759055803895651"
      ]
     },
     "execution_count": 41,
     "metadata": {},
     "output_type": "execute_result"
    }
   ],
   "source": [
    "#scipy.stats.pearsonr(x, y)\n",
    "x.corr(y)\n",
    "y.corr(x)\n"
   ]
  },
  {
   "cell_type": "code",
   "execution_count": 42,
   "id": "e511d25f",
   "metadata": {},
   "outputs": [
    {
     "data": {
      "text/plain": [
       "0.9069630004043256"
      ]
     },
     "execution_count": 42,
     "metadata": {},
     "output_type": "execute_result"
    }
   ],
   "source": [
    "x.corr(y, method='spearman')\n",
    "y.corr(x, method='spearman')"
   ]
  },
  {
   "cell_type": "code",
   "execution_count": 43,
   "id": "c7ae4fda",
   "metadata": {},
   "outputs": [
    {
     "data": {
      "text/plain": [
       "0.798426554503312"
      ]
     },
     "execution_count": 43,
     "metadata": {},
     "output_type": "execute_result"
    }
   ],
   "source": [
    "x.corr(y, method='kendall')\n",
    "y.corr(x, method='kendall')"
   ]
  },
  {
   "cell_type": "code",
   "execution_count": 44,
   "id": "2ba39376",
   "metadata": {},
   "outputs": [
    {
     "data": {
      "text/plain": [
       "50000.0     20\n",
       "60000.0     13\n",
       "40000.0     12\n",
       "30000.0     11\n",
       "100000.0     9\n",
       "80000.0      8\n",
       "70000.0      7\n",
       "35000.0      7\n",
       "20000.0      6\n",
       "25000.0      4\n",
       "45000.0      4\n",
       "90000.0      3\n",
       "300000.0     3\n",
       "55000.0      2\n",
       "200000.0     2\n",
       "700000.0     2\n",
       "150000.0     2\n",
       "12000.0      2\n",
       "15000.0      1\n",
       "10000.0      1\n",
       "120000.0     1\n",
       "600000.0     1\n",
       "8000.0       1\n",
       "350000.0     1\n",
       "500000.0     1\n",
       "Name: Income, dtype: int64"
      ]
     },
     "execution_count": 44,
     "metadata": {},
     "output_type": "execute_result"
    }
   ],
   "source": [
    "data['Income'].value_counts()"
   ]
  },
  {
   "cell_type": "code",
   "execution_count": 39,
   "id": "8b234e04",
   "metadata": {},
   "outputs": [
    {
     "data": {
      "text/html": [
       "<div>\n",
       "<style scoped>\n",
       "    .dataframe tbody tr th:only-of-type {\n",
       "        vertical-align: middle;\n",
       "    }\n",
       "\n",
       "    .dataframe tbody tr th {\n",
       "        vertical-align: top;\n",
       "    }\n",
       "\n",
       "    .dataframe thead th {\n",
       "        text-align: right;\n",
       "    }\n",
       "</style>\n",
       "<table border=\"1\" class=\"dataframe\">\n",
       "  <thead>\n",
       "    <tr style=\"text-align: right;\">\n",
       "      <th>col_0</th>\n",
       "      <th>count</th>\n",
       "    </tr>\n",
       "    <tr>\n",
       "      <th>Expenditure</th>\n",
       "      <th></th>\n",
       "    </tr>\n",
       "  </thead>\n",
       "  <tbody>\n",
       "    <tr>\n",
       "      <th>10000.0</th>\n",
       "      <td>5</td>\n",
       "    </tr>\n",
       "    <tr>\n",
       "      <th>15000.0</th>\n",
       "      <td>3</td>\n",
       "    </tr>\n",
       "    <tr>\n",
       "      <th>18000.0</th>\n",
       "      <td>1</td>\n",
       "    </tr>\n",
       "    <tr>\n",
       "      <th>20000.0</th>\n",
       "      <td>2</td>\n",
       "    </tr>\n",
       "    <tr>\n",
       "      <th>22000.0</th>\n",
       "      <td>1</td>\n",
       "    </tr>\n",
       "    <tr>\n",
       "      <th>25000.0</th>\n",
       "      <td>11</td>\n",
       "    </tr>\n",
       "    <tr>\n",
       "      <th>30000.0</th>\n",
       "      <td>9</td>\n",
       "    </tr>\n",
       "    <tr>\n",
       "      <th>32000.0</th>\n",
       "      <td>1</td>\n",
       "    </tr>\n",
       "    <tr>\n",
       "      <th>35000.0</th>\n",
       "      <td>6</td>\n",
       "    </tr>\n",
       "    <tr>\n",
       "      <th>40000.0</th>\n",
       "      <td>10</td>\n",
       "    </tr>\n",
       "    <tr>\n",
       "      <th>42000.0</th>\n",
       "      <td>1</td>\n",
       "    </tr>\n",
       "    <tr>\n",
       "      <th>44000.0</th>\n",
       "      <td>1</td>\n",
       "    </tr>\n",
       "    <tr>\n",
       "      <th>45000.0</th>\n",
       "      <td>7</td>\n",
       "    </tr>\n",
       "    <tr>\n",
       "      <th>50000.0</th>\n",
       "      <td>20</td>\n",
       "    </tr>\n",
       "    <tr>\n",
       "      <th>55000.0</th>\n",
       "      <td>3</td>\n",
       "    </tr>\n",
       "    <tr>\n",
       "      <th>58000.0</th>\n",
       "      <td>1</td>\n",
       "    </tr>\n",
       "    <tr>\n",
       "      <th>60000.0</th>\n",
       "      <td>14</td>\n",
       "    </tr>\n",
       "    <tr>\n",
       "      <th>65000.0</th>\n",
       "      <td>1</td>\n",
       "    </tr>\n",
       "    <tr>\n",
       "      <th>70000.0</th>\n",
       "      <td>4</td>\n",
       "    </tr>\n",
       "    <tr>\n",
       "      <th>75000.0</th>\n",
       "      <td>1</td>\n",
       "    </tr>\n",
       "    <tr>\n",
       "      <th>80000.0</th>\n",
       "      <td>3</td>\n",
       "    </tr>\n",
       "    <tr>\n",
       "      <th>85000.0</th>\n",
       "      <td>1</td>\n",
       "    </tr>\n",
       "    <tr>\n",
       "      <th>100000.0</th>\n",
       "      <td>6</td>\n",
       "    </tr>\n",
       "    <tr>\n",
       "      <th>115000.0</th>\n",
       "      <td>1</td>\n",
       "    </tr>\n",
       "    <tr>\n",
       "      <th>130000.0</th>\n",
       "      <td>1</td>\n",
       "    </tr>\n",
       "    <tr>\n",
       "      <th>250000.0</th>\n",
       "      <td>1</td>\n",
       "    </tr>\n",
       "    <tr>\n",
       "      <th>300000.0</th>\n",
       "      <td>3</td>\n",
       "    </tr>\n",
       "    <tr>\n",
       "      <th>400000.0</th>\n",
       "      <td>2</td>\n",
       "    </tr>\n",
       "    <tr>\n",
       "      <th>700000.0</th>\n",
       "      <td>3</td>\n",
       "    </tr>\n",
       "    <tr>\n",
       "      <th>850000.0</th>\n",
       "      <td>1</td>\n",
       "    </tr>\n",
       "    <tr>\n",
       "      <th>1000000.0</th>\n",
       "      <td>1</td>\n",
       "    </tr>\n",
       "  </tbody>\n",
       "</table>\n",
       "</div>"
      ],
      "text/plain": [
       "col_0        count\n",
       "Expenditure       \n",
       "10000.0          5\n",
       "15000.0          3\n",
       "18000.0          1\n",
       "20000.0          2\n",
       "22000.0          1\n",
       "25000.0         11\n",
       "30000.0          9\n",
       "32000.0          1\n",
       "35000.0          6\n",
       "40000.0         10\n",
       "42000.0          1\n",
       "44000.0          1\n",
       "45000.0          7\n",
       "50000.0         20\n",
       "55000.0          3\n",
       "58000.0          1\n",
       "60000.0         14\n",
       "65000.0          1\n",
       "70000.0          4\n",
       "75000.0          1\n",
       "80000.0          3\n",
       "85000.0          1\n",
       "100000.0         6\n",
       "115000.0         1\n",
       "130000.0         1\n",
       "250000.0         1\n",
       "300000.0         3\n",
       "400000.0         2\n",
       "700000.0         3\n",
       "850000.0         1\n",
       "1000000.0        1"
      ]
     },
     "execution_count": 39,
     "metadata": {},
     "output_type": "execute_result"
    }
   ],
   "source": [
    "pd.crosstab(index=data['Expenditure'], columns='count')"
   ]
  },
  {
   "cell_type": "code",
   "execution_count": 40,
   "id": "665d3b6b",
   "metadata": {},
   "outputs": [],
   "source": [
    "#data['Income'].value_counts()\n",
    "#data.groupby(['Income']).count()\n",
    "\n",
    "#data['Income'] = data['Income'].cumsum()"
   ]
  },
  {
   "cell_type": "markdown",
   "id": "42ceec2f",
   "metadata": {},
   "source": [
    "# CDF & PDF of Income"
   ]
  },
  {
   "cell_type": "code",
   "execution_count": 41,
   "id": "a8e8d5bf",
   "metadata": {},
   "outputs": [
    {
     "data": {
      "image/png": "[encoded data removed]",
      "text/plain": [
       "<Figure size 540x252 with 1 Axes>"
      ]
     },
     "metadata": {
      "needs_background": "light"
     },
     "output_type": "display_data"
    }
   ],
   "source": [
    "plt.rcParams[\"figure.figsize\"] = [7.50, 3.50]\n",
    "plt.rcParams[\"figure.autolayout\"] = True\n",
    "\n",
    "count, bins_count = np.histogram(x, bins=10)\n",
    "pdf = count / sum(count)\n",
    "cdf = np.cumsum(pdf)\n",
    "plt.plot(bins_count[1:], cdf, label=\"CDF\")\n",
    "plt.plot(bins_count[1:], pdf, label=\"PDF\")\n",
    "plt.legend()\n",
    "plt.show()"
   ]
  },
  {
   "cell_type": "markdown",
   "id": "99ece6a3",
   "metadata": {},
   "source": [
    " # CDF & PDF of Expenditure"
   ]
  },
  {
   "cell_type": "code",
   "execution_count": 42,
   "id": "ab4c35de",
   "metadata": {},
   "outputs": [
    {
     "data": {
      "image/png": "[encoded data removed]",
      "text/plain": [
       "<Figure size 540x252 with 1 Axes>"
      ]
     },
     "metadata": {
      "needs_background": "light"
     },
     "output_type": "display_data"
    }
   ],
   "source": [
    "plt.rcParams[\"figure.figsize\"] = [7.50, 3.50]\n",
    "plt.rcParams[\"figure.autolayout\"] = True\n",
    "\n",
    "count, bins_count = np.histogram(y, bins=10)\n",
    "pdf = count / sum(count)\n",
    "cdf = np.cumsum(pdf)\n",
    "plt.plot(bins_count[1:], cdf, label=\"CDF\")\n",
    "plt.plot(bins_count[1:], pdf, label=\"PDF\")\n",
    "plt.legend()\n",
    "plt.show()"
   ]
  },
  {
   "cell_type": "code",
   "execution_count": null,
   "id": "6d1bf0a3",
   "metadata": {},
   "outputs": [],
   "source": []
  },
  {
   "cell_type": "code",
   "execution_count": null,
   "id": "7c71a7c9",
   "metadata": {},
   "outputs": [],
   "source": []
  },
  {
   "cell_type": "code",
   "execution_count": null,
   "id": "8989ac4a",
   "metadata": {},
   "outputs": [],
   "source": []
  },
  {
   "cell_type": "code",
   "execution_count": null,
   "id": "2c69b081",
   "metadata": {},
   "outputs": [],
   "source": []
  },
  {
   "cell_type": "code",
   "execution_count": null,
   "id": "802b1a05",
   "metadata": {},
   "outputs": [],
   "source": []
  },
  {
   "cell_type": "code",
   "execution_count": null,
   "id": "046ef473",
   "metadata": {},
   "outputs": [],
   "source": []
  },
  {
   "cell_type": "code",
   "execution_count": null,
   "id": "068cfed1",
   "metadata": {},
   "outputs": [],
   "source": []
  },
  {
   "cell_type": "code",
   "execution_count": null,
   "id": "c9f9719b",
   "metadata": {},
   "outputs": [],
   "source": []
  },
  {
   "cell_type": "code",
   "execution_count": 43,
   "id": "f707c4a7",
   "metadata": {},
   "outputs": [
    {
     "data": {
      "image/png": "[encoded data removed]",
      "text/plain": [
       "<Figure size 540x252 with 1 Axes>"
      ]
     },
     "metadata": {
      "needs_background": "light"
     },
     "output_type": "display_data"
    }
   ],
   "source": [
    "# x = np.linspace(-10,10,100)\n",
    "# y = norm.cdf(x)\n",
    "\n",
    "# plt.plot(x, y)\n",
    "\n",
    "# plt.title('Calculating and plotting a cumulative distribution function')\n",
    "\n",
    "# plt.savefig(\"cumulative_density_distribution_04.png\", bbox_inches='tight')\n",
    "# plt.show()\n"
   ]
  },
  {
   "cell_type": "code",
   "execution_count": 46,
   "id": "e519281b",
   "metadata": {},
   "outputs": [
    {
     "data": {
      "text/plain": [
       "<AxesSubplot:xlabel='Income', ylabel='Expenditure'>"
      ]
     },
     "execution_count": 46,
     "metadata": {},
     "output_type": "execute_result"
    },
    {
     "data": {
      "image/png": "[encoded data removed]",
      "text/plain": [
       "<Figure size 432x288 with 1 Axes>"
      ]
     },
     "metadata": {
      "needs_background": "light"
     },
     "output_type": "display_data"
    }
   ],
   "source": [
    "data.plot(kind='scatter', x='Income', y='Expenditure')"
   ]
  },
  {
   "cell_type": "code",
   "execution_count": 48,
   "id": "3e3d47e0",
   "metadata": {},
   "outputs": [
    {
     "name": "stdout",
     "output_type": "stream",
     "text": [
      "\n",
      "Skewness for Income:  3.9518381563860756 \n",
      "\n",
      "Skewness for Expenditure:  4.280916372761364 \n",
      "\n"
     ]
    }
   ],
   "source": [
    "a = data['Income'].skew()\n",
    "b = data['Expenditure'].skew()\n",
    "\n",
    "print('\\nSkewness for Income: ', a,'\\n\\nSkewness for Expenditure: ', b, '\\n')"
   ]
  },
  {
   "cell_type": "code",
   "execution_count": 49,
   "id": "911d59ab",
   "metadata": {},
   "outputs": [
    {
     "data": {
      "image/png": "[encoded data removed]",
      "text/plain": [
       "<Figure size 432x288 with 1 Axes>"
      ]
     },
     "metadata": {
      "needs_background": "light"
     },
     "output_type": "display_data"
    },
    {
     "name": "stdout",
     "output_type": "stream",
     "text": [
      "Skewness for the input data :  1.458658437437705\n"
     ]
    }
   ],
   "source": [
    "# x = np.linspace(-10, 10, 1000)\n",
    "# y = 1/(np.sqrt(4*np.pi)) * np.exp( -0.2*(x)**2  )\n",
    "  \n",
    "# data['Expenditure']\n",
    "# p.plot(x, y, '.')\n",
    "# p.show()\n",
    "  \n",
    "# print('Skewness for the input data : ', skew(y))"
   ]
  },
  {
   "cell_type": "code",
   "execution_count": 50,
   "id": "e4f4f100",
   "metadata": {},
   "outputs": [
    {
     "data": {
      "image/png": "[encoded data removed]",
      "text/plain": [
       "<Figure size 432x288 with 1 Axes>"
      ]
     },
     "metadata": {
      "needs_background": "light"
     },
     "output_type": "display_data"
    },
    {
     "name": "stdout",
     "output_type": "stream",
     "text": [
      "Skewness for the input data :  1.458658437437705\n"
     ]
    }
   ],
   "source": [
    "# x = np.linspace(-10, 10, 1000)\n",
    "# y = 1/(np.sqrt(4*np.pi)) * np.exp( -0.2*(x)**2  )\n",
    "  \n",
    "# data['Income']\n",
    "# p.plot(x, y, '.')\n",
    "# p.show()\n",
    "  \n",
    "# print('Skewness for the input data : ', skew(y))"
   ]
  },
  {
   "cell_type": "code",
   "execution_count": null,
   "id": "a1ac83c2",
   "metadata": {},
   "outputs": [],
   "source": []
  },
  {
   "cell_type": "code",
   "execution_count": null,
   "id": "6dcbe442",
   "metadata": {},
   "outputs": [],
   "source": []
  },
  {
   "cell_type": "code",
   "execution_count": null,
   "id": "b39e3cae",
   "metadata": {},
   "outputs": [],
   "source": []
  },
  {
   "cell_type": "code",
   "execution_count": null,
   "id": "40692a33",
   "metadata": {},
   "outputs": [],
   "source": []
  }
 ],
 "metadata": {
  "kernelspec": {
   "display_name": "Python 3 (ipykernel)",
   "language": "python",
   "name": "python3"
  },
  "language_info": {
   "codemirror_mode": {
    "name": "ipython",
    "version": 3
   },
   "file_extension": ".py",
   "mimetype": "text/x-python",
   "name": "python",
   "nbconvert_exporter": "python",
   "pygments_lexer": "ipython3",
   "version": "3.9.7"
  }
 },
 "nbformat": 4,
 "nbformat_minor": 5
}
